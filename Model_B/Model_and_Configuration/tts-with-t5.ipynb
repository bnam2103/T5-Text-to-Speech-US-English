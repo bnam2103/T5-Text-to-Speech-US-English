{
 "cells": [
  {
   "cell_type": "code",
   "execution_count": 1,
   "metadata": {},
   "outputs": [
    {
     "name": "stdout",
     "output_type": "stream",
     "text": [
      "Requirement already satisfied: torchaudio in /usr/local/lib/python3.11/dist-packages (2.6.0.dev20250319+cu128)\n",
      "Requirement already satisfied: datasets in /usr/local/lib/python3.11/dist-packages (4.1.1)\n",
      "Requirement already satisfied: transformers==4.48.0 in /usr/local/lib/python3.11/dist-packages (4.48.0)\n",
      "Requirement already satisfied: accelerate in /usr/local/lib/python3.11/dist-packages (1.10.1)\n",
      "Requirement already satisfied: torch in /usr/local/lib/python3.11/dist-packages (2.8.0.dev20250319+cu128)\n",
      "Requirement already satisfied: soundfile in /usr/local/lib/python3.11/dist-packages (0.13.1)\n",
      "Requirement already satisfied: SentencePiece in /usr/local/lib/python3.11/dist-packages (0.2.1)\n",
      "Requirement already satisfied: matplotlib in /usr/local/lib/python3.11/dist-packages (3.10.6)\n",
      "Requirement already satisfied: filelock in /usr/local/lib/python3.11/dist-packages (from transformers==4.48.0) (3.16.1)\n",
      "Requirement already satisfied: huggingface-hub<1.0,>=0.24.0 in /usr/local/lib/python3.11/dist-packages (from transformers==4.48.0) (0.35.0)\n",
      "Requirement already satisfied: numpy>=1.17 in /usr/local/lib/python3.11/dist-packages (from transformers==4.48.0) (2.1.2)\n",
      "Requirement already satisfied: packaging>=20.0 in /usr/local/lib/python3.11/dist-packages (from transformers==4.48.0) (24.2)\n",
      "Requirement already satisfied: pyyaml>=5.1 in /usr/local/lib/python3.11/dist-packages (from transformers==4.48.0) (6.0.2)\n",
      "Requirement already satisfied: regex!=2019.12.17 in /usr/local/lib/python3.11/dist-packages (from transformers==4.48.0) (2025.9.18)\n",
      "Requirement already satisfied: requests in /usr/local/lib/python3.11/dist-packages (from transformers==4.48.0) (2.32.3)\n",
      "Requirement already satisfied: tokenizers<0.22,>=0.21 in /usr/local/lib/python3.11/dist-packages (from transformers==4.48.0) (0.21.4)\n",
      "Requirement already satisfied: safetensors>=0.4.1 in /usr/local/lib/python3.11/dist-packages (from transformers==4.48.0) (0.6.2)\n",
      "Requirement already satisfied: tqdm>=4.27 in /usr/local/lib/python3.11/dist-packages (from transformers==4.48.0) (4.67.1)\n",
      "Requirement already satisfied: typing-extensions>=4.10.0 in /usr/local/lib/python3.11/dist-packages (from torch) (4.12.2)\n",
      "Requirement already satisfied: sympy>=1.13.3 in /usr/local/lib/python3.11/dist-packages (from torch) (1.13.3)\n",
      "Requirement already satisfied: networkx in /usr/local/lib/python3.11/dist-packages (from torch) (3.4.2)\n",
      "Requirement already satisfied: jinja2 in /usr/local/lib/python3.11/dist-packages (from torch) (3.1.4)\n",
      "Requirement already satisfied: fsspec in /usr/local/lib/python3.11/dist-packages (from torch) (2024.10.0)\n",
      "Requirement already satisfied: nvidia-cuda-nvrtc-cu12==12.8.61 in /usr/local/lib/python3.11/dist-packages (from torch) (12.8.61)\n",
      "Requirement already satisfied: nvidia-cuda-runtime-cu12==12.8.57 in /usr/local/lib/python3.11/dist-packages (from torch) (12.8.57)\n",
      "Requirement already satisfied: nvidia-cuda-cupti-cu12==12.8.57 in /usr/local/lib/python3.11/dist-packages (from torch) (12.8.57)\n",
      "Requirement already satisfied: nvidia-cudnn-cu12==9.8.0.87 in /usr/local/lib/python3.11/dist-packages (from torch) (9.8.0.87)\n",
      "Requirement already satisfied: nvidia-cublas-cu12==12.8.3.14 in /usr/local/lib/python3.11/dist-packages (from torch) (12.8.3.14)\n",
      "Requirement already satisfied: nvidia-cufft-cu12==11.3.3.41 in /usr/local/lib/python3.11/dist-packages (from torch) (11.3.3.41)\n",
      "Requirement already satisfied: nvidia-curand-cu12==10.3.9.55 in /usr/local/lib/python3.11/dist-packages (from torch) (10.3.9.55)\n",
      "Requirement already satisfied: nvidia-cusolver-cu12==11.7.2.55 in /usr/local/lib/python3.11/dist-packages (from torch) (11.7.2.55)\n",
      "Requirement already satisfied: nvidia-cusparse-cu12==12.5.7.53 in /usr/local/lib/python3.11/dist-packages (from torch) (12.5.7.53)\n",
      "Requirement already satisfied: nvidia-cusparselt-cu12==0.6.3 in /usr/local/lib/python3.11/dist-packages (from torch) (0.6.3)\n",
      "Requirement already satisfied: nvidia-nccl-cu12==2.25.1 in /usr/local/lib/python3.11/dist-packages (from torch) (2.25.1)\n",
      "Requirement already satisfied: nvidia-nvtx-cu12==12.8.55 in /usr/local/lib/python3.11/dist-packages (from torch) (12.8.55)\n",
      "Requirement already satisfied: nvidia-nvjitlink-cu12==12.8.61 in /usr/local/lib/python3.11/dist-packages (from torch) (12.8.61)\n",
      "Requirement already satisfied: nvidia-cufile-cu12==1.13.0.11 in /usr/local/lib/python3.11/dist-packages (from torch) (1.13.0.11)\n",
      "Requirement already satisfied: pytorch-triton==3.3.0+git96316ce5 in /usr/local/lib/python3.11/dist-packages (from torch) (3.3.0+git96316ce5)\n",
      "Requirement already satisfied: setuptools>=40.8.0 in /usr/local/lib/python3.11/dist-packages (from pytorch-triton==3.3.0+git96316ce5->torch) (77.0.1)\n",
      "Requirement already satisfied: pyarrow>=21.0.0 in /usr/local/lib/python3.11/dist-packages (from datasets) (21.0.0)\n",
      "Requirement already satisfied: dill<0.4.1,>=0.3.0 in /usr/local/lib/python3.11/dist-packages (from datasets) (0.4.0)\n",
      "Requirement already satisfied: pandas in /usr/local/lib/python3.11/dist-packages (from datasets) (2.3.2)\n",
      "Requirement already satisfied: xxhash in /usr/local/lib/python3.11/dist-packages (from datasets) (3.5.0)\n",
      "Requirement already satisfied: multiprocess<0.70.17 in /usr/local/lib/python3.11/dist-packages (from datasets) (0.70.16)\n",
      "Requirement already satisfied: psutil in /usr/local/lib/python3.11/dist-packages (from accelerate) (7.0.0)\n",
      "Requirement already satisfied: cffi>=1.0 in /usr/local/lib/python3.11/dist-packages (from soundfile) (1.17.1)\n",
      "Requirement already satisfied: contourpy>=1.0.1 in /usr/local/lib/python3.11/dist-packages (from matplotlib) (1.3.3)\n",
      "Requirement already satisfied: cycler>=0.10 in /usr/local/lib/python3.11/dist-packages (from matplotlib) (0.12.1)\n",
      "Requirement already satisfied: fonttools>=4.22.0 in /usr/local/lib/python3.11/dist-packages (from matplotlib) (4.60.0)\n",
      "Requirement already satisfied: kiwisolver>=1.3.1 in /usr/local/lib/python3.11/dist-packages (from matplotlib) (1.4.9)\n",
      "Requirement already satisfied: pillow>=8 in /usr/local/lib/python3.11/dist-packages (from matplotlib) (11.0.0)\n",
      "Requirement already satisfied: pyparsing>=2.3.1 in /usr/lib/python3/dist-packages (from matplotlib) (2.4.7)\n",
      "Requirement already satisfied: python-dateutil>=2.7 in /usr/local/lib/python3.11/dist-packages (from matplotlib) (2.9.0.post0)\n",
      "Requirement already satisfied: pycparser in /usr/local/lib/python3.11/dist-packages (from cffi>=1.0->soundfile) (2.22)\n",
      "Requirement already satisfied: aiohttp!=4.0.0a0,!=4.0.0a1 in /usr/local/lib/python3.11/dist-packages (from fsspec[http]<=2025.9.0,>=2023.1.0->datasets) (3.12.15)\n",
      "Requirement already satisfied: hf-xet<2.0.0,>=1.1.3 in /usr/local/lib/python3.11/dist-packages (from huggingface-hub<1.0,>=0.24.0->transformers==4.48.0) (1.1.10)\n",
      "Requirement already satisfied: six>=1.5 in /usr/lib/python3/dist-packages (from python-dateutil>=2.7->matplotlib) (1.16.0)\n",
      "Requirement already satisfied: charset-normalizer<4,>=2 in /usr/local/lib/python3.11/dist-packages (from requests->transformers==4.48.0) (3.4.1)\n",
      "Requirement already satisfied: idna<4,>=2.5 in /usr/local/lib/python3.11/dist-packages (from requests->transformers==4.48.0) (3.10)\n",
      "Requirement already satisfied: urllib3<3,>=1.21.1 in /usr/local/lib/python3.11/dist-packages (from requests->transformers==4.48.0) (2.3.0)\n",
      "Requirement already satisfied: certifi>=2017.4.17 in /usr/local/lib/python3.11/dist-packages (from requests->transformers==4.48.0) (2025.1.31)\n",
      "Requirement already satisfied: mpmath<1.4,>=1.1.0 in /usr/local/lib/python3.11/dist-packages (from sympy>=1.13.3->torch) (1.3.0)\n",
      "Requirement already satisfied: MarkupSafe>=2.0 in /usr/local/lib/python3.11/dist-packages (from jinja2->torch) (2.1.5)\n",
      "Requirement already satisfied: pytz>=2020.1 in /usr/local/lib/python3.11/dist-packages (from pandas->datasets) (2025.2)\n",
      "Requirement already satisfied: tzdata>=2022.7 in /usr/local/lib/python3.11/dist-packages (from pandas->datasets) (2025.2)\n",
      "Requirement already satisfied: aiohappyeyeballs>=2.5.0 in /usr/local/lib/python3.11/dist-packages (from aiohttp!=4.0.0a0,!=4.0.0a1->fsspec[http]<=2025.9.0,>=2023.1.0->datasets) (2.6.1)\n",
      "Requirement already satisfied: aiosignal>=1.4.0 in /usr/local/lib/python3.11/dist-packages (from aiohttp!=4.0.0a0,!=4.0.0a1->fsspec[http]<=2025.9.0,>=2023.1.0->datasets) (1.4.0)\n",
      "Requirement already satisfied: attrs>=17.3.0 in /usr/local/lib/python3.11/dist-packages (from aiohttp!=4.0.0a0,!=4.0.0a1->fsspec[http]<=2025.9.0,>=2023.1.0->datasets) (25.3.0)\n",
      "Requirement already satisfied: frozenlist>=1.1.1 in /usr/local/lib/python3.11/dist-packages (from aiohttp!=4.0.0a0,!=4.0.0a1->fsspec[http]<=2025.9.0,>=2023.1.0->datasets) (1.7.0)\n",
      "Requirement already satisfied: multidict<7.0,>=4.5 in /usr/local/lib/python3.11/dist-packages (from aiohttp!=4.0.0a0,!=4.0.0a1->fsspec[http]<=2025.9.0,>=2023.1.0->datasets) (6.6.4)\n",
      "Requirement already satisfied: propcache>=0.2.0 in /usr/local/lib/python3.11/dist-packages (from aiohttp!=4.0.0a0,!=4.0.0a1->fsspec[http]<=2025.9.0,>=2023.1.0->datasets) (0.3.2)\n",
      "Requirement already satisfied: yarl<2.0,>=1.17.0 in /usr/local/lib/python3.11/dist-packages (from aiohttp!=4.0.0a0,!=4.0.0a1->fsspec[http]<=2025.9.0,>=2023.1.0->datasets) (1.20.1)\n",
      "\u001b[33mWARNING: Running pip as the 'root' user can result in broken permissions and conflicting behaviour with the system package manager, possibly rendering your system unusable. It is recommended to use a virtual environment instead: https://pip.pypa.io/warnings/venv. Use the --root-user-action option if you know what you are doing and want to suppress this warning.\u001b[0m\u001b[33m\n",
      "\u001b[0m\n",
      "\u001b[1m[\u001b[0m\u001b[34;49mnotice\u001b[0m\u001b[1;39;49m]\u001b[0m\u001b[39;49m A new release of pip is available: \u001b[0m\u001b[31;49m25.0.1\u001b[0m\u001b[39;49m -> \u001b[0m\u001b[32;49m25.2\u001b[0m\n",
      "\u001b[1m[\u001b[0m\u001b[34;49mnotice\u001b[0m\u001b[1;39;49m]\u001b[0m\u001b[39;49m To update, run: \u001b[0m\u001b[32;49mpython -m pip install --upgrade pip\u001b[0m\n",
      "Note: you may need to restart the kernel to use updated packages.\n"
     ]
    }
   ],
   "source": [
    "pip install torchaudio datasets transformers==4.48.0 accelerate torch soundfile SentencePiece matplotlib"
   ]
  },
  {
   "cell_type": "code",
   "execution_count": 29,
   "metadata": {},
   "outputs": [
    {
     "name": "stdout",
     "output_type": "stream",
     "text": [
      "Files extracted to \n"
     ]
    }
   ],
   "source": [
    "import zipfile\n",
    "\n",
    "# Specify the path to your zip file\n",
    "zip_file = 'wavs1.zip'\n",
    "# Specify the destination directory where you want to extract the contents\n",
    "destination_dir = ''\n",
    "\n",
    "# Extract the zip file\n",
    "with zipfile.ZipFile(zip_file, 'r') as zip_ref:\n",
    "    zip_ref.extractall(destination_dir)\n",
    "\n",
    "print(f\"Files extracted to {destination_dir}\")"
   ]
  },
  {
   "cell_type": "code",
   "execution_count": 49,
   "metadata": {},
   "outputs": [
    {
     "data": {
      "text/html": [
       "<div>\n",
       "<style scoped>\n",
       "    .dataframe tbody tr th:only-of-type {\n",
       "        vertical-align: middle;\n",
       "    }\n",
       "\n",
       "    .dataframe tbody tr th {\n",
       "        vertical-align: top;\n",
       "    }\n",
       "\n",
       "    .dataframe thead th {\n",
       "        text-align: right;\n",
       "    }\n",
       "</style>\n",
       "<table border=\"1\" class=\"dataframe\">\n",
       "  <thead>\n",
       "    <tr style=\"text-align: right;\">\n",
       "      <th></th>\n",
       "      <th>ID</th>\n",
       "      <th>normalized_sentence</th>\n",
       "    </tr>\n",
       "  </thead>\n",
       "  <tbody>\n",
       "    <tr>\n",
       "      <th>0</th>\n",
       "      <td>LJ001-0001</td>\n",
       "      <td>Printing, in the only sense with which we are ...</td>\n",
       "    </tr>\n",
       "    <tr>\n",
       "      <th>1</th>\n",
       "      <td>LJ001-0002</td>\n",
       "      <td>in being comparatively modern.</td>\n",
       "    </tr>\n",
       "    <tr>\n",
       "      <th>2</th>\n",
       "      <td>LJ001-0003</td>\n",
       "      <td>For although the Chinese took impressions from...</td>\n",
       "    </tr>\n",
       "    <tr>\n",
       "      <th>3</th>\n",
       "      <td>LJ001-0004</td>\n",
       "      <td>produced the block books, which were the immed...</td>\n",
       "    </tr>\n",
       "    <tr>\n",
       "      <th>4</th>\n",
       "      <td>LJ001-0005</td>\n",
       "      <td>the invention of movable metal letters in the ...</td>\n",
       "    </tr>\n",
       "    <tr>\n",
       "      <th>...</th>\n",
       "      <td>...</td>\n",
       "      <td>...</td>\n",
       "    </tr>\n",
       "    <tr>\n",
       "      <th>13095</th>\n",
       "      <td>LJ050-0274</td>\n",
       "      <td>made certain recommendations which it believes...</td>\n",
       "    </tr>\n",
       "    <tr>\n",
       "      <th>13096</th>\n",
       "      <td>LJ050-0275</td>\n",
       "      <td>materially improve upon the procedures in effe...</td>\n",
       "    </tr>\n",
       "    <tr>\n",
       "      <th>13097</th>\n",
       "      <td>LJ050-0276</td>\n",
       "      <td>As has been pointed out, the Commission has no...</td>\n",
       "    </tr>\n",
       "    <tr>\n",
       "      <th>13098</th>\n",
       "      <td>LJ050-0277</td>\n",
       "      <td>with the active cooperation of the responsible...</td>\n",
       "    </tr>\n",
       "    <tr>\n",
       "      <th>13099</th>\n",
       "      <td>LJ050-0278</td>\n",
       "      <td>the recommendations we have here suggested wou...</td>\n",
       "    </tr>\n",
       "  </tbody>\n",
       "</table>\n",
       "<p>13100 rows × 2 columns</p>\n",
       "</div>"
      ],
      "text/plain": [
       "               ID                                normalized_sentence\n",
       "0      LJ001-0001  Printing, in the only sense with which we are ...\n",
       "1      LJ001-0002                     in being comparatively modern.\n",
       "2      LJ001-0003  For although the Chinese took impressions from...\n",
       "3      LJ001-0004  produced the block books, which were the immed...\n",
       "4      LJ001-0005  the invention of movable metal letters in the ...\n",
       "...           ...                                                ...\n",
       "13095  LJ050-0274  made certain recommendations which it believes...\n",
       "13096  LJ050-0275  materially improve upon the procedures in effe...\n",
       "13097  LJ050-0276  As has been pointed out, the Commission has no...\n",
       "13098  LJ050-0277  with the active cooperation of the responsible...\n",
       "13099  LJ050-0278  the recommendations we have here suggested wou...\n",
       "\n",
       "[13100 rows x 2 columns]"
      ]
     },
     "execution_count": 49,
     "metadata": {},
     "output_type": "execute_result"
    }
   ],
   "source": [
    "import pandas as pd\n",
    "df = pd.read_csv(\"metadata1.csv\", sep='|', names = [\"ID\",\"sentence\",\"normalized_sentence\"])\n",
    "# df['ID'] = df['ID'].apply(lambda x: f'{x:03}' if x < 1000 else str(x))\n",
    "df = df[[\"ID\",\"normalized_sentence\"]]\n",
    "df"
   ]
  },
  {
   "cell_type": "code",
   "execution_count": 50,
   "metadata": {},
   "outputs": [
    {
     "data": {
      "text/html": [
       "<div>\n",
       "<style scoped>\n",
       "    .dataframe tbody tr th:only-of-type {\n",
       "        vertical-align: middle;\n",
       "    }\n",
       "\n",
       "    .dataframe tbody tr th {\n",
       "        vertical-align: top;\n",
       "    }\n",
       "\n",
       "    .dataframe thead th {\n",
       "        text-align: right;\n",
       "    }\n",
       "</style>\n",
       "<table border=\"1\" class=\"dataframe\">\n",
       "  <thead>\n",
       "    <tr style=\"text-align: right;\">\n",
       "      <th></th>\n",
       "      <th>ID</th>\n",
       "      <th>normalized_sentence</th>\n",
       "    </tr>\n",
       "  </thead>\n",
       "  <tbody>\n",
       "    <tr>\n",
       "      <th>0</th>\n",
       "      <td>LJ001-0002</td>\n",
       "      <td>in being comparatively modern.</td>\n",
       "    </tr>\n",
       "    <tr>\n",
       "      <th>1</th>\n",
       "      <td>LJ001-0003</td>\n",
       "      <td>For although the Chinese took impressions from...</td>\n",
       "    </tr>\n",
       "    <tr>\n",
       "      <th>2</th>\n",
       "      <td>LJ001-0004</td>\n",
       "      <td>produced the block books, which were the immed...</td>\n",
       "    </tr>\n",
       "    <tr>\n",
       "      <th>3</th>\n",
       "      <td>LJ001-0005</td>\n",
       "      <td>the invention of movable metal letters in the ...</td>\n",
       "    </tr>\n",
       "    <tr>\n",
       "      <th>4</th>\n",
       "      <td>LJ001-0006</td>\n",
       "      <td>And it is worth mention in passing that, as an...</td>\n",
       "    </tr>\n",
       "    <tr>\n",
       "      <th>...</th>\n",
       "      <td>...</td>\n",
       "      <td>...</td>\n",
       "    </tr>\n",
       "    <tr>\n",
       "      <th>13078</th>\n",
       "      <td>LJ050-0274</td>\n",
       "      <td>made certain recommendations which it believes...</td>\n",
       "    </tr>\n",
       "    <tr>\n",
       "      <th>13079</th>\n",
       "      <td>LJ050-0275</td>\n",
       "      <td>materially improve upon the procedures in effe...</td>\n",
       "    </tr>\n",
       "    <tr>\n",
       "      <th>13080</th>\n",
       "      <td>LJ050-0276</td>\n",
       "      <td>As has been pointed out, the Commission has no...</td>\n",
       "    </tr>\n",
       "    <tr>\n",
       "      <th>13081</th>\n",
       "      <td>LJ050-0277</td>\n",
       "      <td>with the active cooperation of the responsible...</td>\n",
       "    </tr>\n",
       "    <tr>\n",
       "      <th>13082</th>\n",
       "      <td>LJ050-0278</td>\n",
       "      <td>the recommendations we have here suggested wou...</td>\n",
       "    </tr>\n",
       "  </tbody>\n",
       "</table>\n",
       "<p>13083 rows × 2 columns</p>\n",
       "</div>"
      ],
      "text/plain": [
       "               ID                                normalized_sentence\n",
       "0      LJ001-0002                     in being comparatively modern.\n",
       "1      LJ001-0003  For although the Chinese took impressions from...\n",
       "2      LJ001-0004  produced the block books, which were the immed...\n",
       "3      LJ001-0005  the invention of movable metal letters in the ...\n",
       "4      LJ001-0006  And it is worth mention in passing that, as an...\n",
       "...           ...                                                ...\n",
       "13078  LJ050-0274  made certain recommendations which it believes...\n",
       "13079  LJ050-0275  materially improve upon the procedures in effe...\n",
       "13080  LJ050-0276  As has been pointed out, the Commission has no...\n",
       "13081  LJ050-0277  with the active cooperation of the responsible...\n",
       "13082  LJ050-0278  the recommendations we have here suggested wou...\n",
       "\n",
       "[13083 rows x 2 columns]"
      ]
     },
     "execution_count": 50,
     "metadata": {},
     "output_type": "execute_result"
    }
   ],
   "source": [
    "df.isna().sum()\n",
    "df.dropna(inplace=True)\n",
    "df = df.drop(index=0).reset_index(drop=True)\n",
    "df"
   ]
  },
  {
   "cell_type": "code",
   "execution_count": 51,
   "metadata": {},
   "outputs": [
    {
     "data": {
      "text/plain": [
       "Dataset({\n",
       "    features: ['ID', 'normalized_sentence'],\n",
       "    num_rows: 13083\n",
       "})"
      ]
     },
     "execution_count": 51,
     "metadata": {},
     "output_type": "execute_result"
    }
   ],
   "source": [
    "from datasets import Dataset\n",
    "\n",
    "dataset = Dataset.from_pandas(df)\n",
    "dataset"
   ]
  },
  {
   "cell_type": "code",
   "execution_count": 52,
   "metadata": {},
   "outputs": [
    {
     "data": {
      "application/vnd.jupyter.widget-view+json": {
       "model_id": "37f6ad6571194a4a96151487a9ddbfc9",
       "version_major": 2,
       "version_minor": 0
      },
      "text/plain": [
       "Map:   0%|          | 0/13083 [00:00<?, ? examples/s]"
      ]
     },
     "metadata": {},
     "output_type": "display_data"
    }
   ],
   "source": [
    "import torchaudio\n",
    "import torchaudio.transforms as T\n",
    "import os\n",
    "WAVS_DIR = \"wavs\"\n",
    "\n",
    "resampler = T.Resample(new_freq=16000)\n",
    "\n",
    "def load_audio(example):\n",
    "    wav_path = os.path.join(WAVS_DIR, f\"{example['ID']}.wav\")\n",
    "    waveform, sr = torchaudio.load(wav_path)\n",
    "    if sr != 16000:\n",
    "        waveform = resampler(waveform)\n",
    "\n",
    "    example[\"audio\"] = waveform.squeeze().numpy()  # just the array, no sampling rate\n",
    "    return example\n",
    "\n",
    "dataset = dataset.map(load_audio)"
   ]
  },
  {
   "cell_type": "code",
   "execution_count": 53,
   "metadata": {},
   "outputs": [],
   "source": [
    "from transformers import SpeechT5Processor\n",
    "\n",
    "checkpoint = \"microsoft/speecht5_tts\"\n",
    "processor = SpeechT5Processor.from_pretrained(checkpoint)\n",
    "tokenizer = processor.tokenizer\n"
   ]
  },
  {
   "cell_type": "code",
   "execution_count": 54,
   "metadata": {},
   "outputs": [
    {
     "data": {
      "application/vnd.jupyter.widget-view+json": {
       "model_id": "bcf078a872094ce9ab05a2a52772f3a7",
       "version_major": 2,
       "version_minor": 0
      },
      "text/plain": [
       "Map:   0%|          | 0/13083 [00:00<?, ? examples/s]"
      ]
     },
     "metadata": {},
     "output_type": "display_data"
    }
   ],
   "source": [
    "def extract_all_chars(batch):\n",
    "    # Filter out None values or replace with empty string\n",
    "    all_text = \" \".join([sentence if sentence is not None else \"\" for sentence in batch[\"normalized_sentence\"]])\n",
    "    vocab = list(set(all_text))\n",
    "    return {\"vocab\": [vocab], \"all_text\": [all_text]}\n",
    "\n",
    "\n",
    "vocabs = dataset.map(\n",
    "    extract_all_chars,\n",
    "    batched=True,\n",
    "    batch_size=-1,\n",
    "    keep_in_memory=True,\n",
    "    remove_columns=dataset.column_names,\n",
    ")\n",
    "\n",
    "dataset_vocab = set(vocabs[\"vocab\"][0])\n",
    "tokenizer_vocab = {k for k, _ in tokenizer.get_vocab().items()}"
   ]
  },
  {
   "cell_type": "code",
   "execution_count": 55,
   "metadata": {},
   "outputs": [
    {
     "data": {
      "text/plain": [
       "{' ', 'à', 'â', 'è', 'ü', '’', '“', '”'}"
      ]
     },
     "execution_count": 55,
     "metadata": {},
     "output_type": "execute_result"
    }
   ],
   "source": [
    "dataset_vocab - tokenizer_vocab"
   ]
  },
  {
   "cell_type": "code",
   "execution_count": 56,
   "metadata": {},
   "outputs": [
    {
     "data": {
      "application/vnd.jupyter.widget-view+json": {
       "model_id": "0ddfbe40778d450c904688e32c92e598",
       "version_major": 2,
       "version_minor": 0
      },
      "text/plain": [
       "Map:   0%|          | 0/13083 [00:00<?, ? examples/s]"
      ]
     },
     "metadata": {},
     "output_type": "display_data"
    }
   ],
   "source": [
    "# Updated replacement rules\n",
    "replacements = [\n",
    "    (\"à\", \"a\"),\n",
    "    (\"â\", \"a\"),\n",
    "    (\"è\", \"e\"),  # already handled\n",
    "    (\"ü\", \"u\"),\n",
    "    (\"’\", \"'\"),\n",
    "    (\"“\", '\"'),\n",
    "    (\"”\", '\"'),\n",
    "    (\"$\", \"dollar sign\"),\n",
    "]\n",
    "\n",
    "# Mapping digits to words\n",
    "digit_to_word = {\n",
    "    \"0\": \"zero\",\n",
    "    \"1\": \"one\",\n",
    "    \"2\": \"two\",\n",
    "    \"3\": \"three\",\n",
    "    \"4\": \"four\",\n",
    "    \"5\": \"five\",\n",
    "    \"6\": \"six\",\n",
    "    \"7\": \"seven\",\n",
    "    \"8\": \"eight\",\n",
    "    \"9\": \"nine\",\n",
    "}\n",
    "\n",
    "def cleanup_text(inputs):\n",
    "    text = inputs.get(\"normalized_sentence\")\n",
    "    if text is not None:\n",
    "        # Apply character replacements\n",
    "        for src, dst in replacements:\n",
    "            text = text.replace(src, dst)\n",
    "        \n",
    "        # Replace digits with words\n",
    "        for digit, word in digit_to_word.items():\n",
    "            text = text.replace(digit, f\" {word} \")  # Add spaces to prevent sticking to words\n",
    "\n",
    "        # Optional: Normalize whitespace (e.g., multiple spaces → one)\n",
    "        text = \" \".join(text.split())\n",
    "\n",
    "        # Update the input dictionary\n",
    "        inputs[\"normalized_sentence\"] = text\n",
    "    return inputs\n",
    "\n",
    "# Apply cleanup_text function to dataset\n",
    "dataset = dataset.map(cleanup_text)\n"
   ]
  },
  {
   "cell_type": "code",
   "execution_count": 57,
   "metadata": {},
   "outputs": [
    {
     "name": "stdout",
     "output_type": "stream",
     "text": [
      "Requirement already satisfied: speechbrain in /usr/local/lib/python3.11/dist-packages (1.0.3)\n",
      "Requirement already satisfied: hyperpyyaml in /usr/local/lib/python3.11/dist-packages (from speechbrain) (1.2.2)\n",
      "Requirement already satisfied: joblib in /usr/local/lib/python3.11/dist-packages (from speechbrain) (1.5.2)\n",
      "Requirement already satisfied: numpy in /usr/local/lib/python3.11/dist-packages (from speechbrain) (2.1.2)\n",
      "Requirement already satisfied: packaging in /usr/local/lib/python3.11/dist-packages (from speechbrain) (24.2)\n",
      "Requirement already satisfied: scipy in /usr/local/lib/python3.11/dist-packages (from speechbrain) (1.16.2)\n",
      "Requirement already satisfied: sentencepiece in /usr/local/lib/python3.11/dist-packages (from speechbrain) (0.2.1)\n",
      "Requirement already satisfied: torch>=1.9 in /usr/local/lib/python3.11/dist-packages (from speechbrain) (2.8.0.dev20250319+cu128)\n",
      "Requirement already satisfied: torchaudio in /usr/local/lib/python3.11/dist-packages (from speechbrain) (2.6.0.dev20250319+cu128)\n",
      "Requirement already satisfied: tqdm in /usr/local/lib/python3.11/dist-packages (from speechbrain) (4.67.1)\n",
      "Requirement already satisfied: huggingface_hub in /usr/local/lib/python3.11/dist-packages (from speechbrain) (0.35.0)\n",
      "Requirement already satisfied: filelock in /usr/local/lib/python3.11/dist-packages (from torch>=1.9->speechbrain) (3.16.1)\n",
      "Requirement already satisfied: typing-extensions>=4.10.0 in /usr/local/lib/python3.11/dist-packages (from torch>=1.9->speechbrain) (4.12.2)\n",
      "Requirement already satisfied: sympy>=1.13.3 in /usr/local/lib/python3.11/dist-packages (from torch>=1.9->speechbrain) (1.13.3)\n",
      "Requirement already satisfied: networkx in /usr/local/lib/python3.11/dist-packages (from torch>=1.9->speechbrain) (3.4.2)\n",
      "Requirement already satisfied: jinja2 in /usr/local/lib/python3.11/dist-packages (from torch>=1.9->speechbrain) (3.1.4)\n",
      "Requirement already satisfied: fsspec in /usr/local/lib/python3.11/dist-packages (from torch>=1.9->speechbrain) (2024.10.0)\n",
      "Requirement already satisfied: nvidia-cuda-nvrtc-cu12==12.8.61 in /usr/local/lib/python3.11/dist-packages (from torch>=1.9->speechbrain) (12.8.61)\n",
      "Requirement already satisfied: nvidia-cuda-runtime-cu12==12.8.57 in /usr/local/lib/python3.11/dist-packages (from torch>=1.9->speechbrain) (12.8.57)\n",
      "Requirement already satisfied: nvidia-cuda-cupti-cu12==12.8.57 in /usr/local/lib/python3.11/dist-packages (from torch>=1.9->speechbrain) (12.8.57)\n",
      "Requirement already satisfied: nvidia-cudnn-cu12==9.8.0.87 in /usr/local/lib/python3.11/dist-packages (from torch>=1.9->speechbrain) (9.8.0.87)\n",
      "Requirement already satisfied: nvidia-cublas-cu12==12.8.3.14 in /usr/local/lib/python3.11/dist-packages (from torch>=1.9->speechbrain) (12.8.3.14)\n",
      "Requirement already satisfied: nvidia-cufft-cu12==11.3.3.41 in /usr/local/lib/python3.11/dist-packages (from torch>=1.9->speechbrain) (11.3.3.41)\n",
      "Requirement already satisfied: nvidia-curand-cu12==10.3.9.55 in /usr/local/lib/python3.11/dist-packages (from torch>=1.9->speechbrain) (10.3.9.55)\n",
      "Requirement already satisfied: nvidia-cusolver-cu12==11.7.2.55 in /usr/local/lib/python3.11/dist-packages (from torch>=1.9->speechbrain) (11.7.2.55)\n",
      "Requirement already satisfied: nvidia-cusparse-cu12==12.5.7.53 in /usr/local/lib/python3.11/dist-packages (from torch>=1.9->speechbrain) (12.5.7.53)\n",
      "Requirement already satisfied: nvidia-cusparselt-cu12==0.6.3 in /usr/local/lib/python3.11/dist-packages (from torch>=1.9->speechbrain) (0.6.3)\n",
      "Requirement already satisfied: nvidia-nccl-cu12==2.25.1 in /usr/local/lib/python3.11/dist-packages (from torch>=1.9->speechbrain) (2.25.1)\n",
      "Requirement already satisfied: nvidia-nvtx-cu12==12.8.55 in /usr/local/lib/python3.11/dist-packages (from torch>=1.9->speechbrain) (12.8.55)\n",
      "Requirement already satisfied: nvidia-nvjitlink-cu12==12.8.61 in /usr/local/lib/python3.11/dist-packages (from torch>=1.9->speechbrain) (12.8.61)\n",
      "Requirement already satisfied: nvidia-cufile-cu12==1.13.0.11 in /usr/local/lib/python3.11/dist-packages (from torch>=1.9->speechbrain) (1.13.0.11)\n",
      "Requirement already satisfied: pytorch-triton==3.3.0+git96316ce5 in /usr/local/lib/python3.11/dist-packages (from torch>=1.9->speechbrain) (3.3.0+git96316ce5)\n",
      "Requirement already satisfied: setuptools>=40.8.0 in /usr/local/lib/python3.11/dist-packages (from pytorch-triton==3.3.0+git96316ce5->torch>=1.9->speechbrain) (77.0.1)\n",
      "Requirement already satisfied: pyyaml>=5.1 in /usr/local/lib/python3.11/dist-packages (from huggingface_hub->speechbrain) (6.0.2)\n",
      "Requirement already satisfied: requests in /usr/local/lib/python3.11/dist-packages (from huggingface_hub->speechbrain) (2.32.3)\n",
      "Requirement already satisfied: hf-xet<2.0.0,>=1.1.3 in /usr/local/lib/python3.11/dist-packages (from huggingface_hub->speechbrain) (1.1.10)\n",
      "Requirement already satisfied: ruamel.yaml>=0.17.28 in /usr/local/lib/python3.11/dist-packages (from hyperpyyaml->speechbrain) (0.18.15)\n",
      "Requirement already satisfied: ruamel.yaml.clib>=0.2.7 in /usr/local/lib/python3.11/dist-packages (from ruamel.yaml>=0.17.28->hyperpyyaml->speechbrain) (0.2.12)\n",
      "Requirement already satisfied: mpmath<1.4,>=1.1.0 in /usr/local/lib/python3.11/dist-packages (from sympy>=1.13.3->torch>=1.9->speechbrain) (1.3.0)\n",
      "Requirement already satisfied: MarkupSafe>=2.0 in /usr/local/lib/python3.11/dist-packages (from jinja2->torch>=1.9->speechbrain) (2.1.5)\n",
      "Requirement already satisfied: charset-normalizer<4,>=2 in /usr/local/lib/python3.11/dist-packages (from requests->huggingface_hub->speechbrain) (3.4.1)\n",
      "Requirement already satisfied: idna<4,>=2.5 in /usr/local/lib/python3.11/dist-packages (from requests->huggingface_hub->speechbrain) (3.10)\n",
      "Requirement already satisfied: urllib3<3,>=1.21.1 in /usr/local/lib/python3.11/dist-packages (from requests->huggingface_hub->speechbrain) (2.3.0)\n",
      "Requirement already satisfied: certifi>=2017.4.17 in /usr/local/lib/python3.11/dist-packages (from requests->huggingface_hub->speechbrain) (2025.1.31)\n",
      "\u001b[33mWARNING: Running pip as the 'root' user can result in broken permissions and conflicting behaviour with the system package manager, possibly rendering your system unusable. It is recommended to use a virtual environment instead: https://pip.pypa.io/warnings/venv. Use the --root-user-action option if you know what you are doing and want to suppress this warning.\u001b[0m\u001b[33m\n",
      "\u001b[0m\n",
      "\u001b[1m[\u001b[0m\u001b[34;49mnotice\u001b[0m\u001b[1;39;49m]\u001b[0m\u001b[39;49m A new release of pip is available: \u001b[0m\u001b[31;49m25.0.1\u001b[0m\u001b[39;49m -> \u001b[0m\u001b[32;49m25.2\u001b[0m\n",
      "\u001b[1m[\u001b[0m\u001b[34;49mnotice\u001b[0m\u001b[1;39;49m]\u001b[0m\u001b[39;49m To update, run: \u001b[0m\u001b[32;49mpython -m pip install --upgrade pip\u001b[0m\n"
     ]
    }
   ],
   "source": [
    "!pip install speechbrain"
   ]
  },
  {
   "cell_type": "code",
   "execution_count": 58,
   "metadata": {},
   "outputs": [],
   "source": [
    "import os\n",
    "import torch\n",
    "from speechbrain.pretrained import EncoderClassifier\n",
    "\n",
    "spk_model_name = \"speechbrain/spkrec-xvect-voxceleb\"\n",
    "\n",
    "device = \"cuda\" if torch.cuda.is_available() else \"cpu\"\n",
    "speaker_model = EncoderClassifier.from_hparams(\n",
    "    source=spk_model_name,\n",
    "    run_opts={\"device\": device},\n",
    "    savedir=os.path.join(\"/tmp\", spk_model_name),\n",
    ")\n",
    "\n",
    "\n",
    "def create_speaker_embedding(waveform):\n",
    "    with torch.no_grad():\n",
    "        speaker_embeddings = speaker_model.encode_batch(torch.tensor(waveform))\n",
    "        speaker_embeddings = torch.nn.functional.normalize(speaker_embeddings, dim=2)\n",
    "        speaker_embeddings = speaker_embeddings.squeeze().cpu().numpy()\n",
    "    return speaker_embeddings"
   ]
  },
  {
   "cell_type": "code",
   "execution_count": null,
   "metadata": {},
   "outputs": [],
   "source": []
  },
  {
   "cell_type": "code",
   "execution_count": 59,
   "metadata": {},
   "outputs": [
    {
     "data": {
      "text/plain": [
       "['input_ids', 'labels', 'speaker_embeddings']"
      ]
     },
     "execution_count": 59,
     "metadata": {},
     "output_type": "execute_result"
    }
   ],
   "source": [
    "def prepare_dataset(example):\n",
    "    audio_array = example[\"audio\"]\n",
    "    sampling_rate = 16000  # or whatever your actual sampling rate is\n",
    "\n",
    "    example = processor(\n",
    "        text=example[\"normalized_sentence\"],\n",
    "        audio_target=audio_array,\n",
    "        sampling_rate=sampling_rate,\n",
    "        return_attention_mask=False,\n",
    "    )\n",
    "\n",
    "    # strip off the batch dimension\n",
    "    example[\"labels\"] = example[\"labels\"][0]\n",
    "    example[\"speaker_embeddings\"] = create_speaker_embedding(audio_array)\n",
    "\n",
    "    return example\n",
    "\n",
    "processed_example = prepare_dataset(dataset[0])\n",
    "list(processed_example.keys())\n"
   ]
  },
  {
   "cell_type": "code",
   "execution_count": 60,
   "metadata": {},
   "outputs": [
    {
     "data": {
      "text/plain": [
       "(512,)"
      ]
     },
     "execution_count": 60,
     "metadata": {},
     "output_type": "execute_result"
    }
   ],
   "source": [
    "processed_example[\"speaker_embeddings\"].shape\n"
   ]
  },
  {
   "cell_type": "code",
   "execution_count": 61,
   "metadata": {},
   "outputs": [
    {
     "data": {
      "image/png": "[encoded data removed]",
      "text/plain": [
       "<Figure size 640x480 with 1 Axes>"
      ]
     },
     "metadata": {},
     "output_type": "display_data"
    }
   ],
   "source": [
    "import matplotlib.pyplot as plt\n",
    "\n",
    "plt.figure()\n",
    "plt.imshow(processed_example[\"labels\"].T)\n",
    "plt.show()"
   ]
  },
  {
   "cell_type": "code",
   "execution_count": 62,
   "metadata": {},
   "outputs": [
    {
     "data": {
      "application/vnd.jupyter.widget-view+json": {
       "model_id": "d4764680b771457f9a8e8c5bf3f0432d",
       "version_major": 2,
       "version_minor": 0
      },
      "text/plain": [
       "Map:   0%|          | 0/13083 [00:00<?, ? examples/s]"
      ]
     },
     "metadata": {},
     "output_type": "display_data"
    }
   ],
   "source": [
    "dataset = dataset.map(prepare_dataset, remove_columns=dataset.column_names)"
   ]
  },
  {
   "cell_type": "code",
   "execution_count": 63,
   "metadata": {},
   "outputs": [],
   "source": [
    "# def is_not_too_long(input_ids):\n",
    "#     input_length = len(input_ids)\n",
    "#     return input_length < 200\n",
    "\n",
    "\n",
    "# dataset = dataset.filter(is_not_too_long, input_columns=[\"input_ids\"])\n",
    "# len(dataset)"
   ]
  },
  {
   "cell_type": "code",
   "execution_count": 64,
   "metadata": {},
   "outputs": [],
   "source": [
    "example = dataset[9]\n",
    "speaker_embeddings = torch.tensor(example[\"speaker_embeddings\"]).unsqueeze(0)"
   ]
  },
  {
   "cell_type": "code",
   "execution_count": 65,
   "metadata": {},
   "outputs": [
    {
     "data": {
      "text/plain": [
       "tensor([[-7.7735e-02,  6.0888e-02,  4.3054e-02,  2.9000e-02,  3.1763e-02,\n",
       "          2.1259e-02, -4.0531e-02, -1.9594e-03,  2.8220e-02,  1.4145e-02,\n",
       "         -7.0816e-02, -7.3973e-02,  6.8163e-02,  3.8573e-02,  4.2987e-02,\n",
       "          4.0687e-02,  1.5862e-02,  3.1072e-02,  9.2235e-03,  2.0728e-02,\n",
       "          2.9989e-02,  1.9954e-02, -1.3240e-02, -4.9654e-02, -7.0974e-02,\n",
       "         -8.8211e-03, -6.1323e-02, -2.9342e-02,  4.1136e-02,  4.2263e-02,\n",
       "         -3.2501e-03,  5.0494e-02,  2.5433e-02, -1.6476e-02,  4.5807e-02,\n",
       "         -5.9550e-02,  3.1316e-02,  6.2177e-02, -1.2639e-02, -7.5495e-02,\n",
       "          1.1206e-02, -1.4976e-02,  4.2492e-02,  2.8965e-02,  2.7012e-02,\n",
       "         -1.0714e-01, -1.7577e-02,  1.2352e-02, -7.4576e-02,  1.7533e-02,\n",
       "          2.8818e-02,  3.0891e-02,  2.8733e-02,  3.0073e-02, -9.2180e-02,\n",
       "         -3.4045e-02,  2.9227e-02,  2.9264e-02,  3.8078e-02,  3.5094e-03,\n",
       "          2.3465e-02, -6.5242e-03, -1.3329e-02,  9.7612e-03,  1.9906e-02,\n",
       "          5.6998e-02,  2.3596e-02, -3.1188e-02, -5.3651e-02, -6.4132e-02,\n",
       "          8.4613e-03,  8.9681e-03,  2.3273e-03,  7.4345e-03,  2.4630e-02,\n",
       "          3.8924e-02,  1.6377e-02,  1.1499e-02, -5.5235e-02, -7.7331e-02,\n",
       "         -8.1377e-02, -3.4110e-02, -5.4117e-02, -7.2597e-02, -3.1505e-02,\n",
       "         -6.9221e-02, -4.7266e-02,  3.2779e-02,  2.2849e-02, -1.4051e-02,\n",
       "          2.8973e-02, -7.0134e-02,  6.3012e-03, -7.6894e-02,  5.7402e-02,\n",
       "         -2.1040e-02,  3.7726e-02,  3.2688e-02, -6.5734e-02, -7.7985e-02,\n",
       "          5.1537e-02, -7.3214e-02, -8.5950e-02,  3.5133e-02,  4.3556e-02,\n",
       "          2.7100e-03,  3.4026e-02,  4.0333e-02,  2.3675e-02,  9.8104e-03,\n",
       "         -7.6718e-02, -7.7713e-03,  7.3234e-02, -5.8336e-04,  4.7091e-02,\n",
       "          4.7300e-02, -8.3456e-02, -1.9455e-02, -5.8763e-02, -2.7120e-02,\n",
       "          1.3357e-02, -6.5794e-02,  1.8550e-02,  3.1491e-02, -6.1129e-02,\n",
       "          4.4120e-02, -8.3320e-02,  2.9238e-02,  2.8421e-02,  4.9363e-02,\n",
       "          2.3089e-02,  2.3921e-02,  4.3326e-02,  3.5010e-02,  2.7847e-02,\n",
       "         -7.7726e-02, -4.6330e-02,  3.0797e-03, -5.8605e-02, -1.7474e-02,\n",
       "          1.2617e-02,  3.0315e-03, -3.0298e-02,  4.6573e-02, -4.9919e-02,\n",
       "          3.0387e-02,  2.0954e-02, -1.4731e-02,  4.1414e-02, -1.0379e-01,\n",
       "          3.7231e-02, -5.3408e-02, -7.2530e-02,  2.5167e-02,  3.8846e-02,\n",
       "          1.2424e-02,  2.0315e-02, -7.0566e-02, -7.2111e-02,  5.1012e-02,\n",
       "          2.9338e-02,  1.3108e-02,  1.1619e-02,  8.6204e-03, -1.2983e-03,\n",
       "          3.5345e-03,  3.3571e-02,  3.7111e-02,  4.3899e-02,  1.8271e-02,\n",
       "          2.2829e-02, -6.3606e-02,  1.8904e-02, -5.3223e-02, -2.8810e-03,\n",
       "         -3.9654e-03, -5.2184e-02,  1.4672e-02,  2.6888e-02, -6.3586e-02,\n",
       "          2.2176e-02, -5.8721e-02, -7.3291e-03,  3.3540e-02, -7.9787e-02,\n",
       "         -1.0713e-02,  3.1216e-02,  4.7474e-02, -5.8996e-02, -4.7897e-02,\n",
       "          7.3984e-02,  7.6599e-03, -8.7882e-02,  1.2665e-02, -1.2712e-03,\n",
       "          3.5165e-02,  3.3578e-02, -1.9236e-03,  4.1036e-02, -2.7069e-03,\n",
       "          4.8380e-02,  9.8269e-03, -6.3614e-02,  1.1797e-02,  3.4404e-02,\n",
       "          1.1117e-02,  5.2502e-02, -4.0384e-02,  3.1570e-02,  1.3701e-02,\n",
       "          3.5106e-03, -7.0857e-02, -3.4478e-02,  4.1408e-02, -5.0183e-02,\n",
       "          5.1357e-02,  4.2982e-02, -9.4691e-02,  3.4425e-02,  3.7668e-02,\n",
       "         -9.2393e-02,  4.6052e-02, -7.9915e-02, -5.8924e-02, -2.7471e-02,\n",
       "          4.3062e-02,  2.7458e-02,  8.4767e-02,  6.3362e-02,  3.4202e-02,\n",
       "         -5.7691e-03,  2.2640e-02,  3.5555e-02,  5.7708e-03,  1.9856e-02,\n",
       "          3.9682e-02,  2.9935e-02,  1.3684e-02,  2.1719e-03,  5.5415e-02,\n",
       "         -5.9259e-02,  2.1587e-02, -9.8138e-02,  1.8360e-02, -5.4336e-02,\n",
       "          4.9609e-02,  3.0146e-02,  3.1344e-02,  1.6765e-02,  7.5530e-03,\n",
       "          3.5681e-02, -4.0865e-03,  8.9246e-03, -6.5184e-02,  1.3132e-02,\n",
       "          4.1927e-02,  2.2552e-02,  4.9257e-02, -6.5176e-02,  6.2992e-02,\n",
       "          3.9036e-03, -8.1796e-02,  1.8995e-02,  5.9033e-02, -7.9684e-04,\n",
       "          3.6657e-02,  5.5510e-02,  4.2808e-02,  2.2962e-02, -1.8780e-03,\n",
       "          2.8103e-02,  1.3763e-04,  1.6724e-02,  3.4208e-02, -6.0142e-02,\n",
       "          2.5921e-02,  4.2870e-02,  3.1611e-02, -7.0981e-02, -5.7143e-02,\n",
       "          1.9758e-03,  3.5043e-02,  5.9594e-02, -8.1193e-02,  6.6273e-03,\n",
       "          5.0716e-02,  1.1671e-02,  5.7025e-02, -9.9810e-02,  3.8793e-03,\n",
       "          2.3884e-02,  1.4385e-02,  1.1636e-02, -7.5835e-03,  3.3775e-02,\n",
       "          2.9242e-02,  1.6456e-02, -3.4940e-02,  3.9610e-02,  4.2144e-02,\n",
       "         -3.2235e-02,  4.4219e-02,  2.3872e-02, -7.5070e-02,  2.9658e-03,\n",
       "          3.5937e-02,  2.2664e-02,  2.5166e-02,  3.7334e-02,  3.5133e-02,\n",
       "          3.9049e-02,  3.5175e-02, -2.7312e-04,  3.7057e-02, -8.7837e-02,\n",
       "         -6.1297e-02, -1.9615e-02,  3.1241e-02, -6.4371e-02,  5.7366e-02,\n",
       "         -6.8928e-02,  3.7039e-02, -5.1054e-02,  7.3494e-03,  3.0002e-02,\n",
       "         -7.0999e-02,  2.6991e-02,  3.8493e-02, -6.5381e-02, -9.4267e-02,\n",
       "         -6.8276e-02, -8.4727e-03,  9.6492e-03,  4.0108e-02, -9.6053e-02,\n",
       "          4.3318e-02,  5.8866e-02, -1.5098e-02,  3.2063e-03,  2.7385e-03,\n",
       "          2.2751e-02, -4.5978e-02,  4.2266e-02, -6.8354e-03, -9.3160e-02,\n",
       "          2.8177e-02,  4.3609e-02,  2.2369e-02, -3.9515e-02, -5.2689e-02,\n",
       "         -6.0107e-02,  6.9960e-03, -5.8404e-02,  1.0858e-01,  1.9904e-02,\n",
       "         -4.7287e-02, -5.0510e-03,  1.5704e-02, -4.3161e-02,  3.2943e-02,\n",
       "         -1.1266e-01,  3.2301e-02, -2.4196e-03,  3.9640e-02,  3.4129e-02,\n",
       "          4.9197e-03, -5.2780e-02, -6.5530e-03,  2.3672e-02,  3.7109e-02,\n",
       "          5.6092e-03,  4.0832e-02, -6.9352e-02,  1.3753e-02, -1.5660e-02,\n",
       "         -1.9144e-03,  2.8183e-02,  1.7702e-02,  5.2179e-02,  3.4707e-02,\n",
       "         -8.5763e-02, -1.1662e-01,  2.8895e-02,  4.1659e-02,  4.0140e-02,\n",
       "         -1.1002e-02,  3.8757e-02, -6.8558e-02,  2.9271e-02,  4.5228e-02,\n",
       "          2.7473e-02,  2.6577e-02, -3.2175e-02,  2.9796e-02, -2.5933e-02,\n",
       "          1.6890e-02,  1.1115e-02, -8.0175e-02,  2.4708e-03, -3.3394e-02,\n",
       "          1.9631e-02, -4.9748e-02, -4.1432e-02,  7.4164e-03,  1.3922e-02,\n",
       "          5.6413e-03,  5.1527e-03, -7.7766e-02, -4.8250e-02, -7.2504e-02,\n",
       "         -7.3046e-02,  2.6958e-02,  2.1539e-02, -9.5238e-03,  3.9580e-02,\n",
       "         -4.8706e-02,  3.0635e-03, -8.0623e-02, -1.4905e-01,  5.1232e-03,\n",
       "         -5.8231e-02, -2.1457e-02,  3.6513e-02,  9.5259e-03, -6.1549e-02,\n",
       "          2.8800e-02,  5.2280e-02,  1.3973e-02,  2.2283e-02, -5.4949e-02,\n",
       "         -2.8617e-02, -1.2433e-02, -1.8177e-02,  3.5260e-02,  2.7524e-02,\n",
       "          1.1184e-02,  3.6762e-02,  2.7751e-02, -5.4905e-03, -7.5847e-02,\n",
       "          2.5154e-02,  2.7589e-02,  3.9273e-02,  2.1157e-03,  4.0556e-02,\n",
       "          3.8553e-02,  3.4888e-02,  5.9492e-03, -3.6856e-03, -1.4114e-02,\n",
       "          5.5849e-02,  1.9175e-02,  1.2164e-02,  3.8372e-02,  2.5688e-03,\n",
       "          4.9698e-03,  2.3639e-02, -8.4490e-02, -7.3196e-02,  3.7224e-02,\n",
       "         -7.9359e-03,  1.1286e-02,  5.0784e-02,  4.5117e-02, -7.4642e-02,\n",
       "          3.6469e-02,  4.7441e-02, -1.6725e-02,  2.5967e-02,  4.1325e-02,\n",
       "         -1.2138e-03,  3.7384e-02,  1.9065e-03,  3.8379e-03, -3.8500e-02,\n",
       "         -7.0493e-02,  5.9336e-03, -5.2736e-03,  4.9545e-02,  6.0705e-02,\n",
       "         -7.3116e-02, -5.1825e-02,  1.1228e-02,  4.7867e-02,  5.4065e-02,\n",
       "          6.5029e-02, -7.1014e-02,  4.4959e-02, -3.8989e-03, -9.2314e-03,\n",
       "         -3.4366e-02,  1.3909e-02, -4.4519e-02, -2.6541e-02,  4.4379e-02,\n",
       "          8.9700e-03, -5.5064e-02, -3.9587e-03, -6.9863e-02, -5.7203e-02,\n",
       "          8.4173e-03,  4.2329e-02, -5.5445e-02,  2.5525e-02,  2.8704e-02,\n",
       "         -1.4824e-02, -4.2155e-02,  4.8559e-02,  4.5158e-02, -3.7035e-02,\n",
       "          4.0513e-02, -6.0891e-02]])"
      ]
     },
     "execution_count": 65,
     "metadata": {},
     "output_type": "execute_result"
    }
   ],
   "source": [
    "speaker_embeddings"
   ]
  },
  {
   "cell_type": "code",
   "execution_count": 79,
   "metadata": {},
   "outputs": [],
   "source": [
    "tokenized_dataset = dataset.train_test_split(test_size=0.1)\n",
    "    "
   ]
  },
  {
   "cell_type": "code",
   "execution_count": 80,
   "metadata": {},
   "outputs": [],
   "source": [
    "from dataclasses import dataclass\n",
    "from typing import Any, Dict, List, Union\n",
    "import torch\n",
    "\n",
    "@dataclass\n",
    "class TTSDataCollatorWithPadding:\n",
    "    processor: Any\n",
    "\n",
    "    def __call__(\n",
    "        self, features: List[Dict[str, Union[List[int], torch.Tensor]]]\n",
    "    ) -> Dict[str, torch.Tensor]:\n",
    "        input_ids = [{\"input_ids\": feature[\"input_ids\"]} for feature in features]\n",
    "        label_features = [{\"input_values\": feature[\"labels\"]} for feature in features]\n",
    "        speaker_features = [feature[\"speaker_embeddings\"] for feature in features]\n",
    "\n",
    "        # collate the inputs and targets into a batch\n",
    "        batch = processor.pad(\n",
    "            input_ids=input_ids, labels=label_features, return_tensors=\"pt\"\n",
    "        )\n",
    "\n",
    "        # replace padding with -100 to ignore loss correctly\n",
    "        batch[\"labels\"] = batch[\"labels\"].masked_fill(\n",
    "            batch.decoder_attention_mask.unsqueeze(-1).ne(1), -100\n",
    "        )\n",
    "\n",
    "        # not used during fine-tuning\n",
    "        del batch[\"decoder_attention_mask\"]\n",
    "\n",
    "        # round down target lengths to multiple of reduction factor\n",
    "        if model.config.reduction_factor > 1:\n",
    "            target_lengths = torch.tensor(\n",
    "                [len(feature[\"input_values\"]) for feature in label_features]\n",
    "            )\n",
    "            target_lengths = target_lengths.new(\n",
    "                [\n",
    "                    length - length % model.config.reduction_factor\n",
    "                    for length in target_lengths\n",
    "                ]\n",
    "            )\n",
    "            max_length = max(target_lengths)\n",
    "            batch[\"labels\"] = batch[\"labels\"][:, :max_length]\n",
    "\n",
    "        # also add in the speaker embeddings\n",
    "        batch[\"speaker_embeddings\"] = torch.tensor(speaker_features)\n",
    "\n",
    "        return batch\n",
    "data_collator = TTSDataCollatorWithPadding(processor=processor)\n"
   ]
  },
  {
   "cell_type": "code",
   "execution_count": 81,
   "metadata": {},
   "outputs": [],
   "source": [
    "from transformers import SpeechT5ForTextToSpeech\n",
    "from functools import partial\n",
    "\n",
    "model = SpeechT5ForTextToSpeech.from_pretrained(checkpoint)\n",
    "\n",
    "\n",
    "# disable cache during training since it's incompatible with gradient checkpointing\n",
    "model.config.use_cache = False\n",
    "\n",
    "# set language and task for generation and re-enable cache\n",
    "model.generate = partial(model.generate, use_cache=True)"
   ]
  },
  {
   "cell_type": "code",
   "execution_count": 82,
   "metadata": {},
   "outputs": [],
   "source": [
    "# from transformers import Seq2SeqTrainingArguments\n",
    "# os.environ[\"WANDB_DISABLED\"] = \"true\"\n",
    "\n",
    "# training_args = Seq2SeqTrainingArguments(\n",
    "#     output_dir=\"speecht5_finetuned_voxpopuli_nl\",  # change to a repo name of your choice\n",
    "#     per_device_train_batch_size=4,\n",
    "#     gradient_accumulation_steps=8,\n",
    "#     learning_rate=1e-5,\n",
    "#     warmup_steps=500,\n",
    "#     max_steps=4000,\n",
    "#     gradient_checkpointing=True,\n",
    "#     fp16=True,\n",
    "#     eval_strategy=\"steps\",\n",
    "#     per_device_eval_batch_size=2,\n",
    "#     save_steps=1000,\n",
    "#     eval_steps=10,\n",
    "#     logging_steps=25,\n",
    "#     # report_to=[\"tensorboard\"],\n",
    "#     load_best_model_at_end=True,\n",
    "#     greater_is_better=False,\n",
    "#     label_names=[\"labels\"],\n",
    "#     # push_to_hub=True,\n",
    "# )"
   ]
  },
  {
   "cell_type": "code",
   "execution_count": null,
   "metadata": {},
   "outputs": [
    {
     "name": "stderr",
     "output_type": "stream",
     "text": [
      "Using the `WANDB_DISABLED` environment variable is deprecated and will be removed in v5. Use the --report_to flag to control the integrations used for logging result (for instance --report_to none).\n",
      "/tmp/ipykernel_6018/1485598227.py:25: FutureWarning: `tokenizer` is deprecated and will be removed in version 5.0.0 for `Seq2SeqTrainer.__init__`. Use `processing_class` instead.\n",
      "  trainer = Seq2SeqTrainer(\n"
     ]
    },
    {
     "data": {
      "text/html": [
       "\n",
       "    <div>\n",
       "      \n",
       "      <progress value='2343' max='18400' style='width:300px; height:20px; vertical-align: middle;'></progress>\n",
       "      [ 2343/18400 1:04:24 < 7:21:49, 0.61 it/s, Epoch 6.36/50]\n",
       "    </div>\n",
       "    <table border=\"1\" class=\"dataframe\">\n",
       "  <thead>\n",
       " <tr style=\"text-align: left;\">\n",
       "      <th>Epoch</th>\n",
       "      <th>Training Loss</th>\n",
       "      <th>Validation Loss</th>\n",
       "    </tr>\n",
       "  </thead>\n",
       "  <tbody>\n",
       "    <tr>\n",
       "      <td>1</td>\n",
       "      <td>No log</td>\n",
       "      <td>0.387632</td>\n",
       "    </tr>\n",
       "    <tr>\n",
       "      <td>2</td>\n",
       "      <td>No log</td>\n",
       "      <td>0.383573</td>\n",
       "    </tr>\n",
       "    <tr>\n",
       "      <td>3</td>\n",
       "      <td>0.422300</td>\n",
       "      <td>0.380689</td>\n",
       "    </tr>\n",
       "    <tr>\n",
       "      <td>4</td>\n",
       "      <td>0.422300</td>\n",
       "      <td>0.376868</td>\n",
       "    </tr>\n",
       "    <tr>\n",
       "      <td>5</td>\n",
       "      <td>0.422300</td>\n",
       "      <td>0.376223</td>\n",
       "    </tr>\n",
       "    <tr>\n",
       "      <td>6</td>\n",
       "      <td>0.411600</td>\n",
       "      <td>0.374317</td>\n",
       "    </tr>\n",
       "  </tbody>\n",
       "</table><p>"
      ],
      "text/plain": [
       "<IPython.core.display.HTML object>"
      ]
     },
     "metadata": {},
     "output_type": "display_data"
    },
    {
     "name": "stderr",
     "output_type": "stream",
     "text": [
      "/usr/local/lib/python3.11/dist-packages/transformers/modeling_utils.py:2758: UserWarning: Moving the following attributes in the config to the generation config: {'max_length': 1876}. You are seeing this warning because you've set generation parameters in the model config, as opposed to in the generation config.\n",
      "  warnings.warn(\n"
     ]
    }
   ],
   "source": [
    "# from transformers import Seq2SeqTrainingArguments\n",
    "from transformers import Seq2SeqTrainer\n",
    "\n",
    "training_args = Seq2SeqTrainingArguments(\n",
    "    output_dir=\"speecht5_finetuned_voxpopuli_nl\",  # change to a repo name of your choice\n",
    "    per_device_train_batch_size=8,\n",
    "    gradient_accumulation_steps=4,\n",
    "    learning_rate=1e-5,\n",
    "    num_train_epochs=50,\n",
    "    warmup_steps=500,\n",
    "    gradient_checkpointing=True,\n",
    "    fp16=True,\n",
    "    eval_strategy=\"epoch\",\n",
    "    save_strategy=\"epoch\",\n",
    "    per_device_eval_batch_size=16,\n",
    "    eval_steps=1,\n",
    "    save_steps=50,\n",
    "    logging_steps=1000,\n",
    "    load_best_model_at_end=True,\n",
    "    greater_is_better=False,\n",
    "    label_names=[\"labels\"],\n",
    ")\n",
    "\n",
    "\n",
    "trainer = Seq2SeqTrainer(\n",
    "    args=training_args,\n",
    "    model=model,\n",
    "    train_dataset=tokenized_dataset[\"train\"],\n",
    "    eval_dataset=tokenized_dataset[\"test\"],\n",
    "    data_collator=data_collator,\n",
    "    tokenizer=processor,\n",
    ")\n",
    "\n",
    "trainer.train()\n"
   ]
  },
  {
   "cell_type": "code",
   "execution_count": null,
   "metadata": {},
   "outputs": [],
   "source": [
    "trainer.save_model(\"/workspace/model2\") \n",
    "tokenizer.save_pretrained(\"/workspace/model2\") "
   ]
  },
  {
   "cell_type": "code",
   "execution_count": null,
   "metadata": {},
   "outputs": [],
   "source": []
  }
 ],
 "metadata": {
  "kaggle": {
   "accelerator": "nvidiaTeslaT4",
   "dataSources": [
    {
     "datasetId": 8285376,
     "sourceId": 13081770,
     "sourceType": "datasetVersion"
    },
    {
     "datasetId": 8285428,
     "sourceId": 13081862,
     "sourceType": "datasetVersion"
    },
    {
     "datasetId": 8295382,
     "sourceId": 13096153,
     "sourceType": "datasetVersion"
    },
    {
     "datasetId": 8295473,
     "sourceId": 13096270,
     "sourceType": "datasetVersion"
    }
   ],
   "dockerImageVersionId": 31090,
   "isGpuEnabled": true,
   "isInternetEnabled": true,
   "language": "python",
   "sourceType": "notebook"
  },
  "kernelspec": {
   "display_name": "Python 3 (ipykernel)",
   "language": "python",
   "name": "python3"
  },
  "language_info": {
   "codemirror_mode": {
    "name": "ipython",
    "version": 3
   },
   "file_extension": ".py",
   "mimetype": "text/x-python",
   "name": "python",
   "nbconvert_exporter": "python",
   "pygments_lexer": "ipython3",
   "version": "3.11.11"
  }
 },
 "nbformat": 4,
 "nbformat_minor": 4
}
